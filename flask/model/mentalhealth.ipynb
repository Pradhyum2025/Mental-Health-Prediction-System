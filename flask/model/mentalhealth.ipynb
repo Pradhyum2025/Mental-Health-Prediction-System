{
  "cells": [
    {
      "cell_type": "code",
      "execution_count": 1,
      "metadata": {
        "id": "muAJ7kk7dkGk"
      },
      "outputs": [],
      "source": [
        "import pandas as pd\n",
        "import numpy as np\n",
        "from sklearn.model_selection import train_test_split\n",
        "from sklearn.preprocessing import LabelEncoder, StandardScaler\n",
        "from sklearn.ensemble import RandomForestClassifier\n",
        "from sklearn.metrics import classification_report\n",
        "import joblib\n",
        "from flask import Flask, request, jsonify\n",
        "from scipy.stats import zscore"
      ]
    },
    {
      "cell_type": "code",
      "execution_count": 18,
      "metadata": {
        "id": "5GMYW2lKd_C0"
      },
      "outputs": [],
      "source": [
        "#loading dataset\n",
        "mentalhealth_dataset = pd.read_csv(\"../../flask/model/Student Depression Dataset.csv\")"
      ]
    },
    {
      "cell_type": "code",
      "execution_count": 19,
      "metadata": {
        "colab": {
          "base_uri": "https://localhost:8080/",
          "height": 313
        },
        "id": "FwWEmjwWeLWi",
        "outputId": "8e7b9e9b-e4b6-4c93-f57c-5edf3260384f"
      },
      "outputs": [
        {
          "data": {
            "text/html": [
              "<div>\n",
              "<style scoped>\n",
              "    .dataframe tbody tr th:only-of-type {\n",
              "        vertical-align: middle;\n",
              "    }\n",
              "\n",
              "    .dataframe tbody tr th {\n",
              "        vertical-align: top;\n",
              "    }\n",
              "\n",
              "    .dataframe thead th {\n",
              "        text-align: right;\n",
              "    }\n",
              "</style>\n",
              "<table border=\"1\" class=\"dataframe\">\n",
              "  <thead>\n",
              "    <tr style=\"text-align: right;\">\n",
              "      <th></th>\n",
              "      <th>id</th>\n",
              "      <th>Gender</th>\n",
              "      <th>Age</th>\n",
              "      <th>City</th>\n",
              "      <th>Profession</th>\n",
              "      <th>Academic Pressure</th>\n",
              "      <th>Work Pressure</th>\n",
              "      <th>CGPA</th>\n",
              "      <th>Study Satisfaction</th>\n",
              "      <th>Job Satisfaction</th>\n",
              "      <th>Sleep Duration</th>\n",
              "      <th>Dietary Habits</th>\n",
              "      <th>Degree</th>\n",
              "      <th>Have you ever had suicidal thoughts ?</th>\n",
              "      <th>Work/Study Hours</th>\n",
              "      <th>Financial Stress</th>\n",
              "      <th>Family History of Mental Illness</th>\n",
              "      <th>Depression</th>\n",
              "    </tr>\n",
              "  </thead>\n",
              "  <tbody>\n",
              "    <tr>\n",
              "      <th>0</th>\n",
              "      <td>2</td>\n",
              "      <td>Male</td>\n",
              "      <td>33.0</td>\n",
              "      <td>Visakhapatnam</td>\n",
              "      <td>Student</td>\n",
              "      <td>5.0</td>\n",
              "      <td>0.0</td>\n",
              "      <td>8.97</td>\n",
              "      <td>2.0</td>\n",
              "      <td>0.0</td>\n",
              "      <td>5-6 hours</td>\n",
              "      <td>Healthy</td>\n",
              "      <td>B.Pharm</td>\n",
              "      <td>Yes</td>\n",
              "      <td>3.0</td>\n",
              "      <td>1.0</td>\n",
              "      <td>No</td>\n",
              "      <td>1</td>\n",
              "    </tr>\n",
              "    <tr>\n",
              "      <th>1</th>\n",
              "      <td>8</td>\n",
              "      <td>Female</td>\n",
              "      <td>24.0</td>\n",
              "      <td>Bangalore</td>\n",
              "      <td>Student</td>\n",
              "      <td>2.0</td>\n",
              "      <td>0.0</td>\n",
              "      <td>5.90</td>\n",
              "      <td>5.0</td>\n",
              "      <td>0.0</td>\n",
              "      <td>5-6 hours</td>\n",
              "      <td>Moderate</td>\n",
              "      <td>BSc</td>\n",
              "      <td>No</td>\n",
              "      <td>3.0</td>\n",
              "      <td>2.0</td>\n",
              "      <td>Yes</td>\n",
              "      <td>0</td>\n",
              "    </tr>\n",
              "    <tr>\n",
              "      <th>2</th>\n",
              "      <td>26</td>\n",
              "      <td>Male</td>\n",
              "      <td>31.0</td>\n",
              "      <td>Srinagar</td>\n",
              "      <td>Student</td>\n",
              "      <td>3.0</td>\n",
              "      <td>0.0</td>\n",
              "      <td>7.03</td>\n",
              "      <td>5.0</td>\n",
              "      <td>0.0</td>\n",
              "      <td>Less than 5 hours</td>\n",
              "      <td>Healthy</td>\n",
              "      <td>BA</td>\n",
              "      <td>No</td>\n",
              "      <td>9.0</td>\n",
              "      <td>1.0</td>\n",
              "      <td>Yes</td>\n",
              "      <td>0</td>\n",
              "    </tr>\n",
              "    <tr>\n",
              "      <th>3</th>\n",
              "      <td>30</td>\n",
              "      <td>Female</td>\n",
              "      <td>28.0</td>\n",
              "      <td>Varanasi</td>\n",
              "      <td>Student</td>\n",
              "      <td>3.0</td>\n",
              "      <td>0.0</td>\n",
              "      <td>5.59</td>\n",
              "      <td>2.0</td>\n",
              "      <td>0.0</td>\n",
              "      <td>7-8 hours</td>\n",
              "      <td>Moderate</td>\n",
              "      <td>BCA</td>\n",
              "      <td>Yes</td>\n",
              "      <td>4.0</td>\n",
              "      <td>5.0</td>\n",
              "      <td>Yes</td>\n",
              "      <td>1</td>\n",
              "    </tr>\n",
              "    <tr>\n",
              "      <th>4</th>\n",
              "      <td>32</td>\n",
              "      <td>Female</td>\n",
              "      <td>25.0</td>\n",
              "      <td>Jaipur</td>\n",
              "      <td>Student</td>\n",
              "      <td>4.0</td>\n",
              "      <td>0.0</td>\n",
              "      <td>8.13</td>\n",
              "      <td>3.0</td>\n",
              "      <td>0.0</td>\n",
              "      <td>5-6 hours</td>\n",
              "      <td>Moderate</td>\n",
              "      <td>M.Tech</td>\n",
              "      <td>Yes</td>\n",
              "      <td>1.0</td>\n",
              "      <td>1.0</td>\n",
              "      <td>No</td>\n",
              "      <td>0</td>\n",
              "    </tr>\n",
              "  </tbody>\n",
              "</table>\n",
              "</div>"
            ],
            "text/plain": [
              "   id  Gender   Age           City Profession  Academic Pressure  \\\n",
              "0   2    Male  33.0  Visakhapatnam    Student                5.0   \n",
              "1   8  Female  24.0      Bangalore    Student                2.0   \n",
              "2  26    Male  31.0       Srinagar    Student                3.0   \n",
              "3  30  Female  28.0       Varanasi    Student                3.0   \n",
              "4  32  Female  25.0         Jaipur    Student                4.0   \n",
              "\n",
              "   Work Pressure  CGPA  Study Satisfaction  Job Satisfaction  \\\n",
              "0            0.0  8.97                 2.0               0.0   \n",
              "1            0.0  5.90                 5.0               0.0   \n",
              "2            0.0  7.03                 5.0               0.0   \n",
              "3            0.0  5.59                 2.0               0.0   \n",
              "4            0.0  8.13                 3.0               0.0   \n",
              "\n",
              "      Sleep Duration Dietary Habits   Degree  \\\n",
              "0          5-6 hours        Healthy  B.Pharm   \n",
              "1          5-6 hours       Moderate      BSc   \n",
              "2  Less than 5 hours        Healthy       BA   \n",
              "3          7-8 hours       Moderate      BCA   \n",
              "4          5-6 hours       Moderate   M.Tech   \n",
              "\n",
              "  Have you ever had suicidal thoughts ?  Work/Study Hours  Financial Stress  \\\n",
              "0                                   Yes               3.0               1.0   \n",
              "1                                    No               3.0               2.0   \n",
              "2                                    No               9.0               1.0   \n",
              "3                                   Yes               4.0               5.0   \n",
              "4                                   Yes               1.0               1.0   \n",
              "\n",
              "  Family History of Mental Illness  Depression  \n",
              "0                               No           1  \n",
              "1                              Yes           0  \n",
              "2                              Yes           0  \n",
              "3                              Yes           1  \n",
              "4                               No           0  "
            ]
          },
          "execution_count": 19,
          "metadata": {},
          "output_type": "execute_result"
        }
      ],
      "source": [
        "#print first 5 rows\n",
        "mentalhealth_dataset.head()"
      ]
    },
    {
      "cell_type": "code",
      "execution_count": 20,
      "metadata": {
        "colab": {
          "base_uri": "https://localhost:8080/",
          "height": 365
        },
        "id": "0y1xGLSmQUN1",
        "outputId": "105b20ba-1ffa-47a6-ddbf-bfc8eba01bf6"
      },
      "outputs": [
        {
          "data": {
            "text/html": [
              "<div>\n",
              "<style scoped>\n",
              "    .dataframe tbody tr th:only-of-type {\n",
              "        vertical-align: middle;\n",
              "    }\n",
              "\n",
              "    .dataframe tbody tr th {\n",
              "        vertical-align: top;\n",
              "    }\n",
              "\n",
              "    .dataframe thead th {\n",
              "        text-align: right;\n",
              "    }\n",
              "</style>\n",
              "<table border=\"1\" class=\"dataframe\">\n",
              "  <thead>\n",
              "    <tr style=\"text-align: right;\">\n",
              "      <th></th>\n",
              "      <th>id</th>\n",
              "      <th>Gender</th>\n",
              "      <th>Age</th>\n",
              "      <th>City</th>\n",
              "      <th>Profession</th>\n",
              "      <th>Academic Pressure</th>\n",
              "      <th>Work Pressure</th>\n",
              "      <th>CGPA</th>\n",
              "      <th>Study Satisfaction</th>\n",
              "      <th>Job Satisfaction</th>\n",
              "      <th>Sleep Duration</th>\n",
              "      <th>Dietary Habits</th>\n",
              "      <th>Degree</th>\n",
              "      <th>Have you ever had suicidal thoughts ?</th>\n",
              "      <th>Work/Study Hours</th>\n",
              "      <th>Financial Stress</th>\n",
              "      <th>Family History of Mental Illness</th>\n",
              "      <th>Depression</th>\n",
              "    </tr>\n",
              "  </thead>\n",
              "  <tbody>\n",
              "    <tr>\n",
              "      <th>27896</th>\n",
              "      <td>140685</td>\n",
              "      <td>Female</td>\n",
              "      <td>27.0</td>\n",
              "      <td>Surat</td>\n",
              "      <td>Student</td>\n",
              "      <td>5.0</td>\n",
              "      <td>0.0</td>\n",
              "      <td>5.75</td>\n",
              "      <td>5.0</td>\n",
              "      <td>0.0</td>\n",
              "      <td>5-6 hours</td>\n",
              "      <td>Unhealthy</td>\n",
              "      <td>Class 12</td>\n",
              "      <td>Yes</td>\n",
              "      <td>7.0</td>\n",
              "      <td>1.0</td>\n",
              "      <td>Yes</td>\n",
              "      <td>0</td>\n",
              "    </tr>\n",
              "    <tr>\n",
              "      <th>27897</th>\n",
              "      <td>140686</td>\n",
              "      <td>Male</td>\n",
              "      <td>27.0</td>\n",
              "      <td>Ludhiana</td>\n",
              "      <td>Student</td>\n",
              "      <td>2.0</td>\n",
              "      <td>0.0</td>\n",
              "      <td>9.40</td>\n",
              "      <td>3.0</td>\n",
              "      <td>0.0</td>\n",
              "      <td>Less than 5 hours</td>\n",
              "      <td>Healthy</td>\n",
              "      <td>MSc</td>\n",
              "      <td>No</td>\n",
              "      <td>0.0</td>\n",
              "      <td>3.0</td>\n",
              "      <td>Yes</td>\n",
              "      <td>0</td>\n",
              "    </tr>\n",
              "    <tr>\n",
              "      <th>27898</th>\n",
              "      <td>140689</td>\n",
              "      <td>Male</td>\n",
              "      <td>31.0</td>\n",
              "      <td>Faridabad</td>\n",
              "      <td>Student</td>\n",
              "      <td>3.0</td>\n",
              "      <td>0.0</td>\n",
              "      <td>6.61</td>\n",
              "      <td>4.0</td>\n",
              "      <td>0.0</td>\n",
              "      <td>5-6 hours</td>\n",
              "      <td>Unhealthy</td>\n",
              "      <td>MD</td>\n",
              "      <td>No</td>\n",
              "      <td>12.0</td>\n",
              "      <td>2.0</td>\n",
              "      <td>No</td>\n",
              "      <td>0</td>\n",
              "    </tr>\n",
              "    <tr>\n",
              "      <th>27899</th>\n",
              "      <td>140690</td>\n",
              "      <td>Female</td>\n",
              "      <td>18.0</td>\n",
              "      <td>Ludhiana</td>\n",
              "      <td>Student</td>\n",
              "      <td>5.0</td>\n",
              "      <td>0.0</td>\n",
              "      <td>6.88</td>\n",
              "      <td>2.0</td>\n",
              "      <td>0.0</td>\n",
              "      <td>Less than 5 hours</td>\n",
              "      <td>Healthy</td>\n",
              "      <td>Class 12</td>\n",
              "      <td>Yes</td>\n",
              "      <td>10.0</td>\n",
              "      <td>5.0</td>\n",
              "      <td>No</td>\n",
              "      <td>1</td>\n",
              "    </tr>\n",
              "    <tr>\n",
              "      <th>27900</th>\n",
              "      <td>140699</td>\n",
              "      <td>Male</td>\n",
              "      <td>27.0</td>\n",
              "      <td>Patna</td>\n",
              "      <td>Student</td>\n",
              "      <td>4.0</td>\n",
              "      <td>0.0</td>\n",
              "      <td>9.24</td>\n",
              "      <td>1.0</td>\n",
              "      <td>0.0</td>\n",
              "      <td>Less than 5 hours</td>\n",
              "      <td>Healthy</td>\n",
              "      <td>BCA</td>\n",
              "      <td>Yes</td>\n",
              "      <td>2.0</td>\n",
              "      <td>3.0</td>\n",
              "      <td>Yes</td>\n",
              "      <td>1</td>\n",
              "    </tr>\n",
              "  </tbody>\n",
              "</table>\n",
              "</div>"
            ],
            "text/plain": [
              "           id  Gender   Age       City Profession  Academic Pressure  \\\n",
              "27896  140685  Female  27.0      Surat    Student                5.0   \n",
              "27897  140686    Male  27.0   Ludhiana    Student                2.0   \n",
              "27898  140689    Male  31.0  Faridabad    Student                3.0   \n",
              "27899  140690  Female  18.0   Ludhiana    Student                5.0   \n",
              "27900  140699    Male  27.0      Patna    Student                4.0   \n",
              "\n",
              "       Work Pressure  CGPA  Study Satisfaction  Job Satisfaction  \\\n",
              "27896            0.0  5.75                 5.0               0.0   \n",
              "27897            0.0  9.40                 3.0               0.0   \n",
              "27898            0.0  6.61                 4.0               0.0   \n",
              "27899            0.0  6.88                 2.0               0.0   \n",
              "27900            0.0  9.24                 1.0               0.0   \n",
              "\n",
              "          Sleep Duration Dietary Habits    Degree  \\\n",
              "27896          5-6 hours      Unhealthy  Class 12   \n",
              "27897  Less than 5 hours        Healthy       MSc   \n",
              "27898          5-6 hours      Unhealthy        MD   \n",
              "27899  Less than 5 hours        Healthy  Class 12   \n",
              "27900  Less than 5 hours        Healthy       BCA   \n",
              "\n",
              "      Have you ever had suicidal thoughts ?  Work/Study Hours  \\\n",
              "27896                                   Yes               7.0   \n",
              "27897                                    No               0.0   \n",
              "27898                                    No              12.0   \n",
              "27899                                   Yes              10.0   \n",
              "27900                                   Yes               2.0   \n",
              "\n",
              "       Financial Stress Family History of Mental Illness  Depression  \n",
              "27896               1.0                              Yes           0  \n",
              "27897               3.0                              Yes           0  \n",
              "27898               2.0                               No           0  \n",
              "27899               5.0                               No           1  \n",
              "27900               3.0                              Yes           1  "
            ]
          },
          "execution_count": 20,
          "metadata": {},
          "output_type": "execute_result"
        }
      ],
      "source": [
        "#print first 5 rows\n",
        "mentalhealth_dataset.tail()"
      ]
    },
    {
      "cell_type": "code",
      "execution_count": 21,
      "metadata": {
        "colab": {
          "base_uri": "https://localhost:8080/"
        },
        "id": "_j5Hfvm4USzl",
        "outputId": "fc5abc0d-e658-44a0-ab19-3358362acd6d"
      },
      "outputs": [
        {
          "data": {
            "text/plain": [
              "(27901, 18)"
            ]
          },
          "execution_count": 21,
          "metadata": {},
          "output_type": "execute_result"
        }
      ],
      "source": [
        "mentalhealth_dataset.shape"
      ]
    },
    {
      "cell_type": "code",
      "execution_count": 22,
      "metadata": {
        "colab": {
          "base_uri": "https://localhost:8080/"
        },
        "id": "_-9ZqZ4TCMy7",
        "outputId": "7f6200a9-fa9b-4846-e8cb-2a1576eed56a"
      },
      "outputs": [
        {
          "data": {
            "text/plain": [
              "np.False_"
            ]
          },
          "execution_count": 22,
          "metadata": {},
          "output_type": "execute_result"
        }
      ],
      "source": [
        "\n",
        "mentalhealth_dataset[\"Depression\"].isna().any()\n"
      ]
    },
    {
      "cell_type": "code",
      "execution_count": 23,
      "metadata": {
        "id": "blai-8cTW-jb"
      },
      "outputs": [],
      "source": [
        "# Drop irrelevant columns\n",
        "mentalhealth_dataset = mentalhealth_dataset.drop(columns=['id', 'City', 'Profession','Work Pressure','Job Satisfaction'])"
      ]
    },
    {
      "cell_type": "code",
      "execution_count": 24,
      "metadata": {
        "id": "0vkYCed-_ull"
      },
      "outputs": [
        {
          "name": "stderr",
          "output_type": "stream",
          "text": [
            "C:\\Users\\HP\\AppData\\Local\\Temp\\ipykernel_20108\\3532642404.py:1: FutureWarning: Downcasting behavior in `replace` is deprecated and will be removed in a future version. To retain the old behavior, explicitly call `result.infer_objects(copy=False)`. To opt-in to the future behavior, set `pd.set_option('future.no_silent_downcasting', True)`\n",
            "  mentalhealth_dataset[\"Have you ever had suicidal thoughts ?\"] = mentalhealth_dataset[\"Have you ever had suicidal thoughts ?\"].replace({\"Yes\": 1, \"No\": 0})\n",
            "C:\\Users\\HP\\AppData\\Local\\Temp\\ipykernel_20108\\3532642404.py:2: FutureWarning: Downcasting behavior in `replace` is deprecated and will be removed in a future version. To retain the old behavior, explicitly call `result.infer_objects(copy=False)`. To opt-in to the future behavior, set `pd.set_option('future.no_silent_downcasting', True)`\n",
            "  mentalhealth_dataset[\"Family History of Mental Illness\"] = mentalhealth_dataset[\"Family History of Mental Illness\"].replace({\"Yes\": 1, \"No\": 0})\n"
          ]
        }
      ],
      "source": [
        "mentalhealth_dataset[\"Have you ever had suicidal thoughts ?\"] = mentalhealth_dataset[\"Have you ever had suicidal thoughts ?\"].replace({\"Yes\": 1, \"No\": 0})\n",
        "mentalhealth_dataset[\"Family History of Mental Illness\"] = mentalhealth_dataset[\"Family History of Mental Illness\"].replace({\"Yes\": 1, \"No\": 0})\n"
      ]
    },
    {
      "cell_type": "code",
      "execution_count": 25,
      "metadata": {
        "colab": {
          "base_uri": "https://localhost:8080/",
          "height": 313
        },
        "id": "9e5aIOh_-1wR",
        "outputId": "6d0e7325-0571-4be9-9079-1af53dde58a7"
      },
      "outputs": [
        {
          "data": {
            "text/html": [
              "<div>\n",
              "<style scoped>\n",
              "    .dataframe tbody tr th:only-of-type {\n",
              "        vertical-align: middle;\n",
              "    }\n",
              "\n",
              "    .dataframe tbody tr th {\n",
              "        vertical-align: top;\n",
              "    }\n",
              "\n",
              "    .dataframe thead th {\n",
              "        text-align: right;\n",
              "    }\n",
              "</style>\n",
              "<table border=\"1\" class=\"dataframe\">\n",
              "  <thead>\n",
              "    <tr style=\"text-align: right;\">\n",
              "      <th></th>\n",
              "      <th>Gender</th>\n",
              "      <th>Age</th>\n",
              "      <th>Academic Pressure</th>\n",
              "      <th>CGPA</th>\n",
              "      <th>Study Satisfaction</th>\n",
              "      <th>Sleep Duration</th>\n",
              "      <th>Dietary Habits</th>\n",
              "      <th>Degree</th>\n",
              "      <th>Have you ever had suicidal thoughts ?</th>\n",
              "      <th>Work/Study Hours</th>\n",
              "      <th>Financial Stress</th>\n",
              "      <th>Family History of Mental Illness</th>\n",
              "      <th>Depression</th>\n",
              "    </tr>\n",
              "  </thead>\n",
              "  <tbody>\n",
              "    <tr>\n",
              "      <th>0</th>\n",
              "      <td>Male</td>\n",
              "      <td>33.0</td>\n",
              "      <td>5.0</td>\n",
              "      <td>8.97</td>\n",
              "      <td>2.0</td>\n",
              "      <td>5-6 hours</td>\n",
              "      <td>Healthy</td>\n",
              "      <td>B.Pharm</td>\n",
              "      <td>1</td>\n",
              "      <td>3.0</td>\n",
              "      <td>1.0</td>\n",
              "      <td>0</td>\n",
              "      <td>1</td>\n",
              "    </tr>\n",
              "    <tr>\n",
              "      <th>1</th>\n",
              "      <td>Female</td>\n",
              "      <td>24.0</td>\n",
              "      <td>2.0</td>\n",
              "      <td>5.90</td>\n",
              "      <td>5.0</td>\n",
              "      <td>5-6 hours</td>\n",
              "      <td>Moderate</td>\n",
              "      <td>BSc</td>\n",
              "      <td>0</td>\n",
              "      <td>3.0</td>\n",
              "      <td>2.0</td>\n",
              "      <td>1</td>\n",
              "      <td>0</td>\n",
              "    </tr>\n",
              "    <tr>\n",
              "      <th>2</th>\n",
              "      <td>Male</td>\n",
              "      <td>31.0</td>\n",
              "      <td>3.0</td>\n",
              "      <td>7.03</td>\n",
              "      <td>5.0</td>\n",
              "      <td>Less than 5 hours</td>\n",
              "      <td>Healthy</td>\n",
              "      <td>BA</td>\n",
              "      <td>0</td>\n",
              "      <td>9.0</td>\n",
              "      <td>1.0</td>\n",
              "      <td>1</td>\n",
              "      <td>0</td>\n",
              "    </tr>\n",
              "    <tr>\n",
              "      <th>3</th>\n",
              "      <td>Female</td>\n",
              "      <td>28.0</td>\n",
              "      <td>3.0</td>\n",
              "      <td>5.59</td>\n",
              "      <td>2.0</td>\n",
              "      <td>7-8 hours</td>\n",
              "      <td>Moderate</td>\n",
              "      <td>BCA</td>\n",
              "      <td>1</td>\n",
              "      <td>4.0</td>\n",
              "      <td>5.0</td>\n",
              "      <td>1</td>\n",
              "      <td>1</td>\n",
              "    </tr>\n",
              "    <tr>\n",
              "      <th>4</th>\n",
              "      <td>Female</td>\n",
              "      <td>25.0</td>\n",
              "      <td>4.0</td>\n",
              "      <td>8.13</td>\n",
              "      <td>3.0</td>\n",
              "      <td>5-6 hours</td>\n",
              "      <td>Moderate</td>\n",
              "      <td>M.Tech</td>\n",
              "      <td>1</td>\n",
              "      <td>1.0</td>\n",
              "      <td>1.0</td>\n",
              "      <td>0</td>\n",
              "      <td>0</td>\n",
              "    </tr>\n",
              "  </tbody>\n",
              "</table>\n",
              "</div>"
            ],
            "text/plain": [
              "   Gender   Age  Academic Pressure  CGPA  Study Satisfaction  \\\n",
              "0    Male  33.0                5.0  8.97                 2.0   \n",
              "1  Female  24.0                2.0  5.90                 5.0   \n",
              "2    Male  31.0                3.0  7.03                 5.0   \n",
              "3  Female  28.0                3.0  5.59                 2.0   \n",
              "4  Female  25.0                4.0  8.13                 3.0   \n",
              "\n",
              "      Sleep Duration Dietary Habits   Degree  \\\n",
              "0          5-6 hours        Healthy  B.Pharm   \n",
              "1          5-6 hours       Moderate      BSc   \n",
              "2  Less than 5 hours        Healthy       BA   \n",
              "3          7-8 hours       Moderate      BCA   \n",
              "4          5-6 hours       Moderate   M.Tech   \n",
              "\n",
              "   Have you ever had suicidal thoughts ?  Work/Study Hours  Financial Stress  \\\n",
              "0                                      1               3.0               1.0   \n",
              "1                                      0               3.0               2.0   \n",
              "2                                      0               9.0               1.0   \n",
              "3                                      1               4.0               5.0   \n",
              "4                                      1               1.0               1.0   \n",
              "\n",
              "   Family History of Mental Illness  Depression  \n",
              "0                                 0           1  \n",
              "1                                 1           0  \n",
              "2                                 1           0  \n",
              "3                                 1           1  \n",
              "4                                 0           0  "
            ]
          },
          "execution_count": 25,
          "metadata": {},
          "output_type": "execute_result"
        }
      ],
      "source": [
        "mentalhealth_dataset.head()"
      ]
    },
    {
      "cell_type": "code",
      "execution_count": 26,
      "metadata": {
        "colab": {
          "base_uri": "https://localhost:8080/"
        },
        "id": "LY_c6tXRXNdD",
        "outputId": "6d2b8420-0b3f-425d-99ca-d47eb391d304"
      },
      "outputs": [
        {
          "name": "stderr",
          "output_type": "stream",
          "text": [
            "C:\\Users\\HP\\AppData\\Local\\Temp\\ipykernel_20108\\3714808998.py:2: FutureWarning: A value is trying to be set on a copy of a DataFrame or Series through chained assignment using an inplace method.\n",
            "The behavior will change in pandas 3.0. This inplace method will never work because the intermediate object on which we are setting values always behaves as a copy.\n",
            "\n",
            "For example, when doing 'df[col].method(value, inplace=True)', try using 'df.method({col: value}, inplace=True)' or df[col] = df[col].method(value) instead, to perform the operation inplace on the original object.\n",
            "\n",
            "\n",
            "  mentalhealth_dataset['Financial Stress'].fillna(mentalhealth_dataset['Financial Stress'].median(), inplace=True)\n"
          ]
        }
      ],
      "source": [
        "# Handle missing values\n",
        "mentalhealth_dataset['Financial Stress'].fillna(mentalhealth_dataset['Financial Stress'].median(), inplace=True)"
      ]
    },
    {
      "cell_type": "code",
      "execution_count": 27,
      "metadata": {
        "colab": {
          "base_uri": "https://localhost:8080/",
          "height": 318
        },
        "id": "T3RF-A_DVlMJ",
        "outputId": "7484d535-7f9a-4a6c-fa46-00862f0fc4e9"
      },
      "outputs": [
        {
          "data": {
            "text/html": [
              "<div>\n",
              "<style scoped>\n",
              "    .dataframe tbody tr th:only-of-type {\n",
              "        vertical-align: middle;\n",
              "    }\n",
              "\n",
              "    .dataframe tbody tr th {\n",
              "        vertical-align: top;\n",
              "    }\n",
              "\n",
              "    .dataframe thead th {\n",
              "        text-align: right;\n",
              "    }\n",
              "</style>\n",
              "<table border=\"1\" class=\"dataframe\">\n",
              "  <thead>\n",
              "    <tr style=\"text-align: right;\">\n",
              "      <th></th>\n",
              "      <th>Age</th>\n",
              "      <th>Academic Pressure</th>\n",
              "      <th>CGPA</th>\n",
              "      <th>Study Satisfaction</th>\n",
              "      <th>Have you ever had suicidal thoughts ?</th>\n",
              "      <th>Work/Study Hours</th>\n",
              "      <th>Financial Stress</th>\n",
              "      <th>Family History of Mental Illness</th>\n",
              "      <th>Depression</th>\n",
              "    </tr>\n",
              "  </thead>\n",
              "  <tbody>\n",
              "    <tr>\n",
              "      <th>count</th>\n",
              "      <td>27901.000000</td>\n",
              "      <td>27901.000000</td>\n",
              "      <td>27901.000000</td>\n",
              "      <td>27901.000000</td>\n",
              "      <td>27901.000000</td>\n",
              "      <td>27901.000000</td>\n",
              "      <td>27901.000000</td>\n",
              "      <td>27901.000000</td>\n",
              "      <td>27901.000000</td>\n",
              "    </tr>\n",
              "    <tr>\n",
              "      <th>mean</th>\n",
              "      <td>25.822300</td>\n",
              "      <td>3.141214</td>\n",
              "      <td>7.656104</td>\n",
              "      <td>2.943837</td>\n",
              "      <td>0.632809</td>\n",
              "      <td>7.156984</td>\n",
              "      <td>3.139852</td>\n",
              "      <td>0.483961</td>\n",
              "      <td>0.585499</td>\n",
              "    </tr>\n",
              "    <tr>\n",
              "      <th>std</th>\n",
              "      <td>4.905687</td>\n",
              "      <td>1.381465</td>\n",
              "      <td>1.470707</td>\n",
              "      <td>1.361148</td>\n",
              "      <td>0.482048</td>\n",
              "      <td>3.707642</td>\n",
              "      <td>1.437270</td>\n",
              "      <td>0.499752</td>\n",
              "      <td>0.492645</td>\n",
              "    </tr>\n",
              "    <tr>\n",
              "      <th>min</th>\n",
              "      <td>18.000000</td>\n",
              "      <td>0.000000</td>\n",
              "      <td>0.000000</td>\n",
              "      <td>0.000000</td>\n",
              "      <td>0.000000</td>\n",
              "      <td>0.000000</td>\n",
              "      <td>1.000000</td>\n",
              "      <td>0.000000</td>\n",
              "      <td>0.000000</td>\n",
              "    </tr>\n",
              "    <tr>\n",
              "      <th>25%</th>\n",
              "      <td>21.000000</td>\n",
              "      <td>2.000000</td>\n",
              "      <td>6.290000</td>\n",
              "      <td>2.000000</td>\n",
              "      <td>0.000000</td>\n",
              "      <td>4.000000</td>\n",
              "      <td>2.000000</td>\n",
              "      <td>0.000000</td>\n",
              "      <td>0.000000</td>\n",
              "    </tr>\n",
              "    <tr>\n",
              "      <th>50%</th>\n",
              "      <td>25.000000</td>\n",
              "      <td>3.000000</td>\n",
              "      <td>7.770000</td>\n",
              "      <td>3.000000</td>\n",
              "      <td>1.000000</td>\n",
              "      <td>8.000000</td>\n",
              "      <td>3.000000</td>\n",
              "      <td>0.000000</td>\n",
              "      <td>1.000000</td>\n",
              "    </tr>\n",
              "    <tr>\n",
              "      <th>75%</th>\n",
              "      <td>30.000000</td>\n",
              "      <td>4.000000</td>\n",
              "      <td>8.920000</td>\n",
              "      <td>4.000000</td>\n",
              "      <td>1.000000</td>\n",
              "      <td>10.000000</td>\n",
              "      <td>4.000000</td>\n",
              "      <td>1.000000</td>\n",
              "      <td>1.000000</td>\n",
              "    </tr>\n",
              "    <tr>\n",
              "      <th>max</th>\n",
              "      <td>59.000000</td>\n",
              "      <td>5.000000</td>\n",
              "      <td>10.000000</td>\n",
              "      <td>5.000000</td>\n",
              "      <td>1.000000</td>\n",
              "      <td>12.000000</td>\n",
              "      <td>5.000000</td>\n",
              "      <td>1.000000</td>\n",
              "      <td>1.000000</td>\n",
              "    </tr>\n",
              "  </tbody>\n",
              "</table>\n",
              "</div>"
            ],
            "text/plain": [
              "                Age  Academic Pressure          CGPA  Study Satisfaction  \\\n",
              "count  27901.000000       27901.000000  27901.000000        27901.000000   \n",
              "mean      25.822300           3.141214      7.656104            2.943837   \n",
              "std        4.905687           1.381465      1.470707            1.361148   \n",
              "min       18.000000           0.000000      0.000000            0.000000   \n",
              "25%       21.000000           2.000000      6.290000            2.000000   \n",
              "50%       25.000000           3.000000      7.770000            3.000000   \n",
              "75%       30.000000           4.000000      8.920000            4.000000   \n",
              "max       59.000000           5.000000     10.000000            5.000000   \n",
              "\n",
              "       Have you ever had suicidal thoughts ?  Work/Study Hours  \\\n",
              "count                           27901.000000      27901.000000   \n",
              "mean                                0.632809          7.156984   \n",
              "std                                 0.482048          3.707642   \n",
              "min                                 0.000000          0.000000   \n",
              "25%                                 0.000000          4.000000   \n",
              "50%                                 1.000000          8.000000   \n",
              "75%                                 1.000000         10.000000   \n",
              "max                                 1.000000         12.000000   \n",
              "\n",
              "       Financial Stress  Family History of Mental Illness    Depression  \n",
              "count      27901.000000                      27901.000000  27901.000000  \n",
              "mean           3.139852                          0.483961      0.585499  \n",
              "std            1.437270                          0.499752      0.492645  \n",
              "min            1.000000                          0.000000      0.000000  \n",
              "25%            2.000000                          0.000000      0.000000  \n",
              "50%            3.000000                          0.000000      1.000000  \n",
              "75%            4.000000                          1.000000      1.000000  \n",
              "max            5.000000                          1.000000      1.000000  "
            ]
          },
          "execution_count": 27,
          "metadata": {},
          "output_type": "execute_result"
        }
      ],
      "source": [
        "# getting the statistical measures of the data\n",
        "mentalhealth_dataset.describe()"
      ]
    },
    {
      "cell_type": "code",
      "execution_count": 28,
      "metadata": {
        "colab": {
          "base_uri": "https://localhost:8080/",
          "height": 178
        },
        "id": "tbXJqu_1V49g",
        "outputId": "036c5605-9035-43f5-aa36-23972ea01a4e"
      },
      "outputs": [
        {
          "data": {
            "text/plain": [
              "Depression\n",
              "1    16336\n",
              "0    11565\n",
              "Name: count, dtype: int64"
            ]
          },
          "execution_count": 28,
          "metadata": {},
          "output_type": "execute_result"
        }
      ],
      "source": [
        "mentalhealth_dataset['Depression'].value_counts()"
      ]
    },
    {
      "cell_type": "code",
      "execution_count": 29,
      "metadata": {
        "colab": {
          "base_uri": "https://localhost:8080/"
        },
        "id": "cXwliNLXEyQT",
        "outputId": "6dce9067-d268-4f03-d0dd-89c7c667e2ff"
      },
      "outputs": [
        {
          "name": "stdout",
          "output_type": "stream",
          "text": [
            "Original dataset: 27901 rows\n",
            "Cleaned dataset: 27882 rows\n"
          ]
        }
      ],
      "source": [
        "\n",
        "# Identify numerical columns\n",
        "num_cols = mentalhealth_dataset.select_dtypes(include=['number']).columns\n",
        "\n",
        "# Compute Z-scores\n",
        "z_scores = mentalhealth_dataset[num_cols].apply(zscore)\n",
        "\n",
        "# Define threshold (3 is a standard value)\n",
        "threshold = 3\n",
        "\n",
        "# Filter data (keep only non-outliers)\n",
        "mentalhealth_dataset_clean = mentalhealth_dataset[(z_scores < threshold).all(axis=1)]\n",
        "\n",
        "# Save the cleaned dataset\n",
        "mentalhealth_dataset_clean.to_csv(\"properly_cleaned_dataset.csv\", index=False)\n",
        "\n",
        "print(f\"Original dataset: {mentalhealth_dataset.shape[0]} rows\")\n",
        "print(f\"Cleaned dataset: {mentalhealth_dataset_clean.shape[0]} rows\")\n"
      ]
    },
    {
      "cell_type": "code",
      "execution_count": 31,
      "metadata": {
        "colab": {
          "base_uri": "https://localhost:8080/"
        },
        "id": "217dsqX8SQ7t",
        "outputId": "b89b72c2-7b03-4e90-c97f-4452b89041c8"
      },
      "outputs": [
        {
          "name": "stdout",
          "output_type": "stream",
          "text": [
            "✅ Cleaned dataset loaded: 27901 rows, 18 columns\n"
          ]
        }
      ],
      "source": [
        "# Load the cleaned dataset\n",
        "cleaned_dataset = pd.read_csv(\"../../flask/model/Student Depression Dataset.csv\")\n",
        "\n",
        "# Check the new shape\n",
        "print(f\"✅ Cleaned dataset loaded: {cleaned_dataset.shape[0]} rows, {cleaned_dataset.shape[1]} columns\")\n"
      ]
    },
    {
      "cell_type": "code",
      "execution_count": 35,
      "metadata": {
        "colab": {
          "base_uri": "https://localhost:8080/",
          "height": 610
        },
        "id": "EwX0SdrMIhiz",
        "outputId": "93e7e666-d362-4a11-f209-cbe90830883e"
      },
      "outputs": [
        {
          "data": {
            "image/png": "[encoded data removed]",
            "text/plain": [
              "<Figure size 1200x600 with 1 Axes>"
            ]
          },
          "metadata": {},
          "output_type": "display_data"
        }
      ],
      "source": [
        "import pandas as pd\n",
        "import seaborn as sns\n",
        "import matplotlib.pyplot as plt\n",
        "\n",
        "# Load the cleaned dataset\n",
        "cleaned_data = pd.read_csv(\"properly_cleaned_dataset.csv\")\n",
        "\n",
        "# Plot boxplots for numerical columns to check for remaining outliers\n",
        "plt.figure(figsize=(12, 6))\n",
        "sns.boxplot(data=cleaned_data)\n",
        "plt.xticks(rotation=45)\n",
        "plt.title(\"Boxplot of Features (Checking for Remaining Outliers)\")\n",
        "plt.show()\n"
      ]
    },
    {
      "cell_type": "code",
      "execution_count": 36,
      "metadata": {
        "colab": {
          "base_uri": "https://localhost:8080/"
        },
        "id": "TebVIVcOTkNa",
        "outputId": "03e8f55e-8845-4523-fe46-e53185ad8ba5"
      },
      "outputs": [
        {
          "name": "stdout",
          "output_type": "stream",
          "text": [
            "✅ Data encoding and robust scaling completed successfully!\n"
          ]
        }
      ],
      "source": [
        "from sklearn.preprocessing import LabelEncoder, RobustScaler\n",
        "\n",
        "# Identify categorical columns\n",
        "categorical_columns = cleaned_dataset.select_dtypes(include=['object']).columns.tolist()\n",
        "\n",
        "# Apply Label Encoding to all categorical columns\n",
        "label_encoders = {}\n",
        "for col in categorical_columns:\n",
        "    le = LabelEncoder()\n",
        "    cleaned_dataset[col] = le.fit_transform(cleaned_dataset[col].astype(str))\n",
        "    label_encoders[col] = le  # Store encoders for future use\n",
        "\n",
        "# Define features and target variable\n",
        "X = cleaned_dataset.drop(columns=['Depression'])  # Features\n",
        "y = cleaned_dataset['Depression']  # Target\n",
        "\n",
        "# Scale numerical features using RobustScaler\n",
        "scaler = RobustScaler()\n",
        "X_scaled = scaler.fit_transform(X)\n",
        "\n",
        "print(\"✅ Data encoding and robust scaling completed successfully!\")\n"
      ]
    },
    {
      "cell_type": "code",
      "execution_count": 37,
      "metadata": {
        "colab": {
          "base_uri": "https://localhost:8080/"
        },
        "id": "JPNViXUYT6T8",
        "outputId": "5d8de5a0-3157-469f-9b94-a12922814ced"
      },
      "outputs": [
        {
          "name": "stdout",
          "output_type": "stream",
          "text": [
            "✅ Data split done: Train - 22320 rows, Test - 5581 rows\n"
          ]
        }
      ],
      "source": [
        "from sklearn.model_selection import train_test_split\n",
        "\n",
        "X_train, X_test, y_train, y_test = train_test_split(X_scaled, y, test_size=0.2, stratify=y, random_state=42)\n",
        "\n",
        "print(f\"✅ Data split done: Train - {X_train.shape[0]} rows, Test - {X_test.shape[0]} rows\")\n"
      ]
    },
    {
      "cell_type": "code",
      "execution_count": 39,
      "metadata": {
        "colab": {
          "base_uri": "https://localhost:8080/"
        },
        "id": "UMoP7Ap7UAM-",
        "outputId": "fddadef0-ae8e-4581-b568-1b0f64ccf8a0"
      },
      "outputs": [
        {
          "name": "stdout",
          "output_type": "stream",
          "text": [
            "📊 Cross-Validation Accuracy Scores: [0.83694678 0.84354839 0.84014337 0.83942652 0.84605735]\n",
            "🏆 Mean Accuracy: 0.8412\n"
          ]
        }
      ],
      "source": [
        "from sklearn.model_selection import cross_val_score\n",
        "from sklearn.ensemble import RandomForestClassifier\n",
        "\n",
        "# Define the model\n",
        "model = RandomForestClassifier(n_estimators=50, max_depth=10, random_state=42)\n",
        "\n",
        "model.fit(X_train, y_train)  # 🔴 Ensure the model is fitted\n",
        "\n",
        "# Save the trained model\n",
        "joblib.dump(model, \"mental_health_model.pkl\")\n",
        "\n",
        "# Perform 5-fold cross-validation\n",
        "cv_scores = cross_val_score(model, X_scaled, y, cv=5, scoring='accuracy')\n",
        "\n",
        "# Print results\n",
        "print(f\"📊 Cross-Validation Accuracy Scores: {cv_scores}\")\n",
        "print(f\"🏆 Mean Accuracy: {cv_scores.mean():.4f}\")\n",
        "\n"
      ]
    },
    {
      "cell_type": "code",
      "execution_count": 41,
      "metadata": {},
      "outputs": [
        {
          "name": "stdout",
          "output_type": "stream",
          "text": [
            "✅ Model is properly loaded and fitted!\n"
          ]
        }
      ],
      "source": [
        "import joblib\n",
        "\n",
        "# Load the model\n",
        "model = joblib.load(\"mental_health_model.pkl\")\n",
        "\n",
        "# Check if the model is fitted\n",
        "if hasattr(model, \"feature_importances_\"):  \n",
        "    print(\"✅ Model is properly loaded and fitted!\")\n",
        "else:\n",
        "    print(\"❌ Model is not fitted. Retrain before saving.\")\n"
      ]
    },
    {
      "cell_type": "code",
      "execution_count": 42,
      "metadata": {
        "colab": {
          "base_uri": "https://localhost:8080/"
        },
        "id": "RKPe29ERUGaH",
        "outputId": "7353c0ab-b591-48b6-843b-b91a4a6c5d6d"
      },
      "outputs": [
        {
          "name": "stdout",
          "output_type": "stream",
          "text": [
            "🚨 Potential outliers in test set (per feature):\n",
            "0\n"
          ]
        }
      ],
      "source": [
        "import numpy as np\n",
        "\n",
        "# Compute Z-scores for test set\n",
        "z_scores_test = np.abs((X_test - X_test.mean()) / X_test.std())\n",
        "\n",
        "# Count potential outliers (Z-score > 3)\n",
        "outliers_test = (z_scores_test > 3).sum()\n",
        "\n",
        "print(f\"🚨 Potential outliers in test set (per feature):\\n{outliers_test}\")\n"
      ]
    },
    {
      "cell_type": "code",
      "execution_count": 43,
      "metadata": {
        "colab": {
          "base_uri": "https://localhost:8080/"
        },
        "id": "NV6uFiosX-n1",
        "outputId": "d2096cf5-3b8a-4d1b-eba1-93c6a22d8794"
      },
      "outputs": [
        {
          "name": "stdout",
          "output_type": "stream",
          "text": [
            "✅ Model and scaler saved successfully!\n"
          ]
        }
      ],
      "source": [
        "# Save the trained model\n",
        "joblib.dump(model, \"mental_health_model.pkl\")\n",
        "\n",
        "# Save the scaler (for future use)\n",
        "joblib.dump(scaler, \"scaler.pkl\")\n",
        "\n",
        "print(\"✅ Model and scaler saved successfully!\")\n"
      ]
    },
    {
      "cell_type": "code",
      "execution_count": 44,
      "metadata": {},
      "outputs": [
        {
          "name": "stdout",
          "output_type": "stream",
          "text": [
            "Index(['id', 'Gender', 'Age', 'City', 'Profession', 'Academic Pressure',\n",
            "       'Work Pressure', 'CGPA', 'Study Satisfaction', 'Job Satisfaction',\n",
            "       'Sleep Duration', 'Dietary Habits', 'Degree',\n",
            "       'Have you ever had suicidal thoughts ?', 'Work/Study Hours',\n",
            "       'Financial Stress', 'Family History of Mental Illness', 'Depression'],\n",
            "      dtype='object')\n"
          ]
        }
      ],
      "source": [
        "print(cleaned_dataset.columns)"
      ]
    },
    {
      "cell_type": "code",
      "execution_count": null,
      "metadata": {},
      "outputs": [],
      "source": [
        "import joblib\n",
        "import numpy as np\n",
        "import pandas as pd\n",
        "\n",
        "# Load the trained model and scaler\n",
        "model = joblib.load(\"mental_health_model.pkl\")\n",
        "scaler = joblib.load(\"scaler.pkl\")\n",
        "\n",
        "# Define feature names (excluding 'Depression')\n",
        "feature_names = [\n",
        "    'Gender', 'Age', 'Academic Pressure', 'CGPA', 'Study Satisfaction',\n",
        "    'Sleep Duration', 'Dietary Habits', 'Degree',\n",
        "    'Have you ever had suicidal thoughts ?', 'Work/Study Hours',\n",
        "    'Financial Stress', 'Family History of Mental Illness'\n",
        "]\n",
        "\n",
        "def predict_depression(user_inputs):\n",
        "    print(\"\\nEnter the following details:\")\n",
        "\n",
        "    # Take user input for all required features\n",
        "    # user_inputs = [\n",
        "    #     int(input(\"Gender (1 for Male, 0 for Female): \")),  # Encode Gender as 1/0\n",
        "    #     int(input(\"Age: \")),\n",
        "    #     int(input(\"Academic Pressure level (1 to 10): \")),\n",
        "    #     float(input(\"CGPA (e.g., 7.5): \")),\n",
        "    #     int(input(\"Study Satisfaction level (1 to 10): \")),\n",
        "    #     float(input(\"Sleep Duration (hours per day): \")),\n",
        "    #     int(input(\"Dietary Habits (1: Poor, 2: Average, 3: Good): \")),\n",
        "    #     int(input(\"Degree Type (1: Undergraduate, 2: Postgraduate, etc.): \")),  # Assuming categorical encoding\n",
        "    #     int(input(\"Have you ever had suicidal thoughts? (1 for Yes, 0 for No): \")),\n",
        "    #     int(input(\"Work/Study Hours per day: \")),\n",
        "    #     float(input(\"Financial Stress Level (e.g., 3.5): \")),\n",
        "    #     int(input(\"Family History of Mental Illness? (1 for Yes, 0 for No): \"))\n",
        "    # ]\n",
        "\n",
        "    # Convert input to a DataFrame with proper column names\n",
        "    user_data = pd.DataFrame([user_inputs], columns=feature_names)\n",
        "\n",
        "    # Ensure input columns match the trained model's feature set\n",
        "    user_data = user_data.reindex(columns=scaler.feature_names_in_, fill_value=0)\n",
        "\n",
        "    # Transform and predict\n",
        "    user_data_scaled = scaler.transform(user_data)\n",
        "    prediction = model.predict(user_data_scaled)\n",
        "\n",
        "    # Scale the input data\n",
        "    user_data_scaled = scaler.transform(user_data)\n",
        "\n",
        "    # Make a prediction\n",
        "    prediction = model.predict(user_data_scaled)\n",
        "\n",
        "    # Print result\n",
        "    if prediction[0] == 1:\n",
        "        return \"🚨 The model predicts that the person may have depression.\"\n",
        "    else:\n",
        "        return \"✅ The model predicts that the person is not suffering from depression.\"\n",
        "\n",
        "\n",
        "# This will show the prediction result based on user input."
      ]
    }
  ],
  "metadata": {
    "colab": {
      "provenance": []
    },
    "kernelspec": {
      "display_name": "Python 3",
      "name": "python3"
    },
    "language_info": {
      "codemirror_mode": {
        "name": "ipython",
        "version": 3
      },
      "file_extension": ".py",
      "mimetype": "text/x-python",
      "name": "python",
      "nbconvert_exporter": "python",
      "pygments_lexer": "ipython3",
      "version": "3.13.2"
    }
  },
  "nbformat": 4,
  "nbformat_minor": 0
}
